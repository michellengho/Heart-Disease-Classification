{
 "cells": [
  {
   "cell_type": "markdown",
   "id": "e8a52968-8e0c-4250-b40b-7469ea3339b0",
   "metadata": {},
   "source": [
    "### Predicting Heart Disease—KNN Classification Algorithm\n",
    " **Project Proposal**\n",
    " > Michelle Ho (2023)"
   ]
  },
  {
   "cell_type": "code",
   "execution_count": 1,
   "id": "28a1d2b8-2848-4632-bba0-9242547fc07d",
   "metadata": {},
   "outputs": [
    {
     "name": "stderr",
     "output_type": "stream",
     "text": [
      "── \u001b[1mAttaching packages\u001b[22m ─────────────────────────────────────── tidyverse 1.3.1 ──\n",
      "\n",
      "\u001b[32m✔\u001b[39m \u001b[34mggplot2\u001b[39m 3.3.6     \u001b[32m✔\u001b[39m \u001b[34mpurrr  \u001b[39m 0.3.4\n",
      "\u001b[32m✔\u001b[39m \u001b[34mtibble \u001b[39m 3.1.7     \u001b[32m✔\u001b[39m \u001b[34mdplyr  \u001b[39m 1.0.9\n",
      "\u001b[32m✔\u001b[39m \u001b[34mtidyr  \u001b[39m 1.2.0     \u001b[32m✔\u001b[39m \u001b[34mstringr\u001b[39m 1.4.0\n",
      "\u001b[32m✔\u001b[39m \u001b[34mreadr  \u001b[39m 2.1.2     \u001b[32m✔\u001b[39m \u001b[34mforcats\u001b[39m 0.5.1\n",
      "\n",
      "── \u001b[1mConflicts\u001b[22m ────────────────────────────────────────── tidyverse_conflicts() ──\n",
      "\u001b[31m✖\u001b[39m \u001b[34mdplyr\u001b[39m::\u001b[32mfilter()\u001b[39m masks \u001b[34mstats\u001b[39m::filter()\n",
      "\u001b[31m✖\u001b[39m \u001b[34mdplyr\u001b[39m::\u001b[32mlag()\u001b[39m    masks \u001b[34mstats\u001b[39m::lag()\n",
      "\n",
      "── \u001b[1mAttaching packages\u001b[22m ────────────────────────────────────── tidymodels 1.0.0 ──\n",
      "\n",
      "\u001b[32m✔\u001b[39m \u001b[34mbroom       \u001b[39m 1.0.0     \u001b[32m✔\u001b[39m \u001b[34mrsample     \u001b[39m 1.0.0\n",
      "\u001b[32m✔\u001b[39m \u001b[34mdials       \u001b[39m 1.0.0     \u001b[32m✔\u001b[39m \u001b[34mtune        \u001b[39m 1.0.0\n",
      "\u001b[32m✔\u001b[39m \u001b[34minfer       \u001b[39m 1.0.2     \u001b[32m✔\u001b[39m \u001b[34mworkflows   \u001b[39m 1.0.0\n",
      "\u001b[32m✔\u001b[39m \u001b[34mmodeldata   \u001b[39m 1.0.0     \u001b[32m✔\u001b[39m \u001b[34mworkflowsets\u001b[39m 1.0.0\n",
      "\u001b[32m✔\u001b[39m \u001b[34mparsnip     \u001b[39m 1.0.0     \u001b[32m✔\u001b[39m \u001b[34myardstick   \u001b[39m 1.0.0\n",
      "\u001b[32m✔\u001b[39m \u001b[34mrecipes     \u001b[39m 1.0.1     \n",
      "\n",
      "── \u001b[1mConflicts\u001b[22m ───────────────────────────────────────── tidymodels_conflicts() ──\n",
      "\u001b[31m✖\u001b[39m \u001b[34mscales\u001b[39m::\u001b[32mdiscard()\u001b[39m masks \u001b[34mpurrr\u001b[39m::discard()\n",
      "\u001b[31m✖\u001b[39m \u001b[34mdplyr\u001b[39m::\u001b[32mfilter()\u001b[39m   masks \u001b[34mstats\u001b[39m::filter()\n",
      "\u001b[31m✖\u001b[39m \u001b[34mrecipes\u001b[39m::\u001b[32mfixed()\u001b[39m  masks \u001b[34mstringr\u001b[39m::fixed()\n",
      "\u001b[31m✖\u001b[39m \u001b[34mdplyr\u001b[39m::\u001b[32mlag()\u001b[39m      masks \u001b[34mstats\u001b[39m::lag()\n",
      "\u001b[31m✖\u001b[39m \u001b[34myardstick\u001b[39m::\u001b[32mspec()\u001b[39m masks \u001b[34mreadr\u001b[39m::spec()\n",
      "\u001b[31m✖\u001b[39m \u001b[34mrecipes\u001b[39m::\u001b[32mstep()\u001b[39m   masks \u001b[34mstats\u001b[39m::step()\n",
      "\u001b[34m•\u001b[39m Search for functions across packages at \u001b[32mhttps://www.tidymodels.org/find/\u001b[39m\n",
      "\n"
     ]
    }
   ],
   "source": [
    "library(tidyverse)\n",
    "library(tidyr)\n",
    "library(ggplot2)\n",
    "library(tidymodels)\n",
    "library(dplyr)\n",
    "library(repr)\n",
    "options(repr.matrix.max.rows = 6)"
   ]
  },
  {
   "cell_type": "markdown",
   "id": "566c0d55-9db2-41e8-a92f-6191b3a430b0",
   "metadata": {},
   "source": [
    "**Introduction:**\n",
    "> One of the leading causes of death in Hungary are cardiovascular diseases (CVDs) (OECD and WHO, 2017). It constitutes approximately 52.4% of the main diagnoses underlying cause of death and 47.6% of the secondary diagnoses prior to death. Several risk factors are known to be associated with CVDs; the most prominent among them are high blood pressure, high cholesterol levels, and smoking (CDC, 2022). Moreover, susceptibility to heart disease increases with age and other uncontrollable factors such as sex (McLaren, 2023).\n",
    "\n",
    "> As data science becomes progressively useful in analyzing and interpreting patient outcomes, we plan to use the tools that we’ve learnt in class to predict the angiographic disease status of CVDs. Our project will use the Heart Disease data set from the UCI Machine Learning Repository to build a classification model that will predict CVD diagnoses in presenting patients. The diagnosis of heart disease in the data set is defined as a binary label, whether the patient has the disease or not. The disease is present if there is greater than 50% diameter narrowing of any major blood vessels in a patient. Ie., if the value in the num parameter is 1, then more than 50% of the diameter of the major blood vessels are narrowing (Hungarian Institute of Cardiology, 1988). When blood vessels narrow, the heart does not receive the blood that it requries and thus, is considered heart disease. Overall, heart failure is a common result caused by CVDs. The dataset that we will be using features 14 attributes that will be examined to determine which are possible indicators of heart disease which will then be used to predict the presence of heart disease in patients."
   ]
  },
  {
   "cell_type": "markdown",
   "id": "9db0f1de-4431-4f92-a47e-201cbba490f7",
   "metadata": {},
   "source": [
    "**Preliminary exploratory data analysis:**"
   ]
  },
  {
   "cell_type": "code",
   "execution_count": 2,
   "id": "65a5469c-0392-4f5f-b0f3-24ba06e7d94e",
   "metadata": {},
   "outputs": [],
   "source": [
    "# setting the seed such that the numbers used in the analysis are reasonably random\n",
    "set.seed(3789)"
   ]
  },
  {
   "cell_type": "code",
   "execution_count": 3,
   "id": "fb6f2526-ce95-4f0b-ac40-09df49eec898",
   "metadata": {},
   "outputs": [
    {
     "name": "stderr",
     "output_type": "stream",
     "text": [
      "\u001b[1mRows: \u001b[22m\u001b[34m294\u001b[39m \u001b[1mColumns: \u001b[22m\u001b[34m14\u001b[39m\n",
      "\u001b[36m──\u001b[39m \u001b[1mColumn specification\u001b[22m \u001b[36m────────────────────────────────────────────────────────\u001b[39m\n",
      "\u001b[1mDelimiter:\u001b[22m \",\"\n",
      "\u001b[31mchr\u001b[39m (9): trestbps, chol, fbs, restecg, thalach, exang, slope, ca, thal\n",
      "\u001b[32mdbl\u001b[39m (5): age, sex, cp, oldpeak, num\n",
      "\n",
      "\u001b[36mℹ\u001b[39m Use `spec()` to retrieve the full column specification for this data.\n",
      "\u001b[36mℹ\u001b[39m Specify the column types or set `show_col_types = FALSE` to quiet this message.\n"
     ]
    },
    {
     "data": {
      "text/html": [
       "<table class=\"dataframe\">\n",
       "<caption>A tibble: 294 × 14</caption>\n",
       "<thead>\n",
       "\t<tr><th scope=col>age</th><th scope=col>sex</th><th scope=col>cp</th><th scope=col>trestbps</th><th scope=col>chol</th><th scope=col>fbs</th><th scope=col>restecg</th><th scope=col>thalach</th><th scope=col>exang</th><th scope=col>oldpeak</th><th scope=col>slope</th><th scope=col>ca</th><th scope=col>thal</th><th scope=col>num</th></tr>\n",
       "\t<tr><th scope=col>&lt;dbl&gt;</th><th scope=col>&lt;fct&gt;</th><th scope=col>&lt;fct&gt;</th><th scope=col>&lt;dbl&gt;</th><th scope=col>&lt;dbl&gt;</th><th scope=col>&lt;fct&gt;</th><th scope=col>&lt;fct&gt;</th><th scope=col>&lt;dbl&gt;</th><th scope=col>&lt;fct&gt;</th><th scope=col>&lt;dbl&gt;</th><th scope=col>&lt;fct&gt;</th><th scope=col>&lt;fct&gt;</th><th scope=col>&lt;fct&gt;</th><th scope=col>&lt;fct&gt;</th></tr>\n",
       "</thead>\n",
       "<tbody>\n",
       "\t<tr><td>28</td><td>1</td><td>2</td><td>130</td><td>132</td><td>0</td><td>2</td><td>185</td><td>0</td><td>0</td><td>NA</td><td>NA</td><td>NA</td><td>0</td></tr>\n",
       "\t<tr><td>29</td><td>1</td><td>2</td><td>120</td><td>243</td><td>0</td><td>0</td><td>160</td><td>0</td><td>0</td><td>NA</td><td>NA</td><td>NA</td><td>0</td></tr>\n",
       "\t<tr><td>29</td><td>1</td><td>2</td><td>140</td><td> NA</td><td>0</td><td>0</td><td>170</td><td>0</td><td>0</td><td>NA</td><td>NA</td><td>NA</td><td>0</td></tr>\n",
       "\t<tr><td>⋮</td><td>⋮</td><td>⋮</td><td>⋮</td><td>⋮</td><td>⋮</td><td>⋮</td><td>⋮</td><td>⋮</td><td>⋮</td><td>⋮</td><td>⋮</td><td>⋮</td><td>⋮</td></tr>\n",
       "\t<tr><td>56</td><td>1</td><td>4</td><td>155</td><td>342</td><td>1</td><td>0</td><td>150</td><td>1</td><td>3</td><td>2</td><td>NA</td><td>NA</td><td>1</td></tr>\n",
       "\t<tr><td>58</td><td>0</td><td>2</td><td>180</td><td>393</td><td>0</td><td>0</td><td>110</td><td>1</td><td>1</td><td>2</td><td>NA</td><td>7 </td><td>1</td></tr>\n",
       "\t<tr><td>65</td><td>1</td><td>4</td><td>130</td><td>275</td><td>0</td><td>1</td><td>115</td><td>1</td><td>1</td><td>2</td><td>NA</td><td>NA</td><td>1</td></tr>\n",
       "</tbody>\n",
       "</table>\n"
      ],
      "text/latex": [
       "A tibble: 294 × 14\n",
       "\\begin{tabular}{llllllllllllll}\n",
       " age & sex & cp & trestbps & chol & fbs & restecg & thalach & exang & oldpeak & slope & ca & thal & num\\\\\n",
       " <dbl> & <fct> & <fct> & <dbl> & <dbl> & <fct> & <fct> & <dbl> & <fct> & <dbl> & <fct> & <fct> & <fct> & <fct>\\\\\n",
       "\\hline\n",
       "\t 28 & 1 & 2 & 130 & 132 & 0 & 2 & 185 & 0 & 0 & NA & NA & NA & 0\\\\\n",
       "\t 29 & 1 & 2 & 120 & 243 & 0 & 0 & 160 & 0 & 0 & NA & NA & NA & 0\\\\\n",
       "\t 29 & 1 & 2 & 140 &  NA & 0 & 0 & 170 & 0 & 0 & NA & NA & NA & 0\\\\\n",
       "\t ⋮ & ⋮ & ⋮ & ⋮ & ⋮ & ⋮ & ⋮ & ⋮ & ⋮ & ⋮ & ⋮ & ⋮ & ⋮ & ⋮\\\\\n",
       "\t 56 & 1 & 4 & 155 & 342 & 1 & 0 & 150 & 1 & 3 & 2 & NA & NA & 1\\\\\n",
       "\t 58 & 0 & 2 & 180 & 393 & 0 & 0 & 110 & 1 & 1 & 2 & NA & 7  & 1\\\\\n",
       "\t 65 & 1 & 4 & 130 & 275 & 0 & 1 & 115 & 1 & 1 & 2 & NA & NA & 1\\\\\n",
       "\\end{tabular}\n"
      ],
      "text/markdown": [
       "\n",
       "A tibble: 294 × 14\n",
       "\n",
       "| age &lt;dbl&gt; | sex &lt;fct&gt; | cp &lt;fct&gt; | trestbps &lt;dbl&gt; | chol &lt;dbl&gt; | fbs &lt;fct&gt; | restecg &lt;fct&gt; | thalach &lt;dbl&gt; | exang &lt;fct&gt; | oldpeak &lt;dbl&gt; | slope &lt;fct&gt; | ca &lt;fct&gt; | thal &lt;fct&gt; | num &lt;fct&gt; |\n",
       "|---|---|---|---|---|---|---|---|---|---|---|---|---|---|\n",
       "| 28 | 1 | 2 | 130 | 132 | 0 | 2 | 185 | 0 | 0 | NA | NA | NA | 0 |\n",
       "| 29 | 1 | 2 | 120 | 243 | 0 | 0 | 160 | 0 | 0 | NA | NA | NA | 0 |\n",
       "| 29 | 1 | 2 | 140 |  NA | 0 | 0 | 170 | 0 | 0 | NA | NA | NA | 0 |\n",
       "| ⋮ | ⋮ | ⋮ | ⋮ | ⋮ | ⋮ | ⋮ | ⋮ | ⋮ | ⋮ | ⋮ | ⋮ | ⋮ | ⋮ |\n",
       "| 56 | 1 | 4 | 155 | 342 | 1 | 0 | 150 | 1 | 3 | 2 | NA | NA | 1 |\n",
       "| 58 | 0 | 2 | 180 | 393 | 0 | 0 | 110 | 1 | 1 | 2 | NA | 7  | 1 |\n",
       "| 65 | 1 | 4 | 130 | 275 | 0 | 1 | 115 | 1 | 1 | 2 | NA | NA | 1 |\n",
       "\n"
      ],
      "text/plain": [
       "    age sex cp trestbps chol fbs restecg thalach exang oldpeak slope ca thal\n",
       "1   28  1   2  130      132  0   2       185     0     0       NA    NA NA  \n",
       "2   29  1   2  120      243  0   0       160     0     0       NA    NA NA  \n",
       "3   29  1   2  140       NA  0   0       170     0     0       NA    NA NA  \n",
       "⋮   ⋮   ⋮   ⋮  ⋮        ⋮    ⋮   ⋮       ⋮       ⋮     ⋮       ⋮     ⋮  ⋮   \n",
       "292 56  1   4  155      342  1   0       150     1     3       2     NA NA  \n",
       "293 58  0   2  180      393  0   0       110     1     1       2     NA 7   \n",
       "294 65  1   4  130      275  0   1       115     1     1       2     NA NA  \n",
       "    num\n",
       "1   0  \n",
       "2   0  \n",
       "3   0  \n",
       "⋮   ⋮  \n",
       "292 1  \n",
       "293 1  \n",
       "294 1  "
      ]
     },
     "metadata": {},
     "output_type": "display_data"
    }
   ],
   "source": [
    "# loading the data and mutating the class label column to factor \n",
    "heart_disease_data <- read_csv(\"https://archive.ics.uci.edu/ml/machine-learning-databases/heart-disease/processed.hungarian.data\", \n",
    "                          col_names = c(\"age\", \"sex\", \"cp\", \"trestbps\", \"chol\", \"fbs\",\"restecg\", \"thalach\", \"exang\", \"oldpeak\", \n",
    "                                        \"slope\", \"ca\", \"thal\", \"num\"))\n",
    "\n",
    "# changing any \"?\" to NA in our dataset\n",
    "heart_disease_data[heart_disease_data==\"?\"]<-NA\n",
    "\n",
    "# converting columns to correct type (mutate_if mutates columns based on provided conditions; mutate_at allows to mutate multiple columns to the same type)\n",
    "heart_disease_data <- heart_disease_data |> mutate_if(is.character, as.numeric) |> mutate_at(vars(\"sex\", \"cp\", \"fbs\", \"restecg\", \"exang\", \"ca\", \"thal\", \"num\", \"slope\"), factor)\n",
    "heart_disease_data"
   ]
  },
  {
   "cell_type": "code",
   "execution_count": 4,
   "id": "c3c382ca-899d-4945-8798-43c84ea7e68c",
   "metadata": {},
   "outputs": [
    {
     "data": {
      "text/html": [
       "<table class=\"dataframe\">\n",
       "<caption>A tibble: 220 × 14</caption>\n",
       "<thead>\n",
       "\t<tr><th scope=col>age</th><th scope=col>sex</th><th scope=col>cp</th><th scope=col>trestbps</th><th scope=col>chol</th><th scope=col>fbs</th><th scope=col>restecg</th><th scope=col>thalach</th><th scope=col>exang</th><th scope=col>oldpeak</th><th scope=col>slope</th><th scope=col>ca</th><th scope=col>thal</th><th scope=col>num</th></tr>\n",
       "\t<tr><th scope=col>&lt;dbl&gt;</th><th scope=col>&lt;fct&gt;</th><th scope=col>&lt;fct&gt;</th><th scope=col>&lt;dbl&gt;</th><th scope=col>&lt;dbl&gt;</th><th scope=col>&lt;fct&gt;</th><th scope=col>&lt;fct&gt;</th><th scope=col>&lt;dbl&gt;</th><th scope=col>&lt;fct&gt;</th><th scope=col>&lt;dbl&gt;</th><th scope=col>&lt;fct&gt;</th><th scope=col>&lt;fct&gt;</th><th scope=col>&lt;fct&gt;</th><th scope=col>&lt;fct&gt;</th></tr>\n",
       "</thead>\n",
       "<tbody>\n",
       "\t<tr><td>28</td><td>1</td><td>2</td><td>130</td><td>132</td><td>0</td><td>2</td><td>185</td><td>0</td><td>0</td><td>NA</td><td>NA</td><td>NA</td><td>0</td></tr>\n",
       "\t<tr><td>29</td><td>1</td><td>2</td><td>140</td><td> NA</td><td>0</td><td>0</td><td>170</td><td>0</td><td>0</td><td>NA</td><td>NA</td><td>NA</td><td>0</td></tr>\n",
       "\t<tr><td>30</td><td>0</td><td>1</td><td>170</td><td>237</td><td>0</td><td>1</td><td>170</td><td>0</td><td>0</td><td>NA</td><td>NA</td><td>6 </td><td>0</td></tr>\n",
       "\t<tr><td>⋮</td><td>⋮</td><td>⋮</td><td>⋮</td><td>⋮</td><td>⋮</td><td>⋮</td><td>⋮</td><td>⋮</td><td>⋮</td><td>⋮</td><td>⋮</td><td>⋮</td><td>⋮</td></tr>\n",
       "\t<tr><td>54</td><td>0</td><td>3</td><td>130</td><td>294</td><td>0</td><td>1</td><td>100</td><td>1</td><td>0</td><td>2</td><td>NA</td><td>NA</td><td>1</td></tr>\n",
       "\t<tr><td>58</td><td>0</td><td>2</td><td>180</td><td>393</td><td>0</td><td>0</td><td>110</td><td>1</td><td>1</td><td>2</td><td>NA</td><td>7 </td><td>1</td></tr>\n",
       "\t<tr><td>65</td><td>1</td><td>4</td><td>130</td><td>275</td><td>0</td><td>1</td><td>115</td><td>1</td><td>1</td><td>2</td><td>NA</td><td>NA</td><td>1</td></tr>\n",
       "</tbody>\n",
       "</table>\n"
      ],
      "text/latex": [
       "A tibble: 220 × 14\n",
       "\\begin{tabular}{llllllllllllll}\n",
       " age & sex & cp & trestbps & chol & fbs & restecg & thalach & exang & oldpeak & slope & ca & thal & num\\\\\n",
       " <dbl> & <fct> & <fct> & <dbl> & <dbl> & <fct> & <fct> & <dbl> & <fct> & <dbl> & <fct> & <fct> & <fct> & <fct>\\\\\n",
       "\\hline\n",
       "\t 28 & 1 & 2 & 130 & 132 & 0 & 2 & 185 & 0 & 0 & NA & NA & NA & 0\\\\\n",
       "\t 29 & 1 & 2 & 140 &  NA & 0 & 0 & 170 & 0 & 0 & NA & NA & NA & 0\\\\\n",
       "\t 30 & 0 & 1 & 170 & 237 & 0 & 1 & 170 & 0 & 0 & NA & NA & 6  & 0\\\\\n",
       "\t ⋮ & ⋮ & ⋮ & ⋮ & ⋮ & ⋮ & ⋮ & ⋮ & ⋮ & ⋮ & ⋮ & ⋮ & ⋮ & ⋮\\\\\n",
       "\t 54 & 0 & 3 & 130 & 294 & 0 & 1 & 100 & 1 & 0 & 2 & NA & NA & 1\\\\\n",
       "\t 58 & 0 & 2 & 180 & 393 & 0 & 0 & 110 & 1 & 1 & 2 & NA & 7  & 1\\\\\n",
       "\t 65 & 1 & 4 & 130 & 275 & 0 & 1 & 115 & 1 & 1 & 2 & NA & NA & 1\\\\\n",
       "\\end{tabular}\n"
      ],
      "text/markdown": [
       "\n",
       "A tibble: 220 × 14\n",
       "\n",
       "| age &lt;dbl&gt; | sex &lt;fct&gt; | cp &lt;fct&gt; | trestbps &lt;dbl&gt; | chol &lt;dbl&gt; | fbs &lt;fct&gt; | restecg &lt;fct&gt; | thalach &lt;dbl&gt; | exang &lt;fct&gt; | oldpeak &lt;dbl&gt; | slope &lt;fct&gt; | ca &lt;fct&gt; | thal &lt;fct&gt; | num &lt;fct&gt; |\n",
       "|---|---|---|---|---|---|---|---|---|---|---|---|---|---|\n",
       "| 28 | 1 | 2 | 130 | 132 | 0 | 2 | 185 | 0 | 0 | NA | NA | NA | 0 |\n",
       "| 29 | 1 | 2 | 140 |  NA | 0 | 0 | 170 | 0 | 0 | NA | NA | NA | 0 |\n",
       "| 30 | 0 | 1 | 170 | 237 | 0 | 1 | 170 | 0 | 0 | NA | NA | 6  | 0 |\n",
       "| ⋮ | ⋮ | ⋮ | ⋮ | ⋮ | ⋮ | ⋮ | ⋮ | ⋮ | ⋮ | ⋮ | ⋮ | ⋮ | ⋮ |\n",
       "| 54 | 0 | 3 | 130 | 294 | 0 | 1 | 100 | 1 | 0 | 2 | NA | NA | 1 |\n",
       "| 58 | 0 | 2 | 180 | 393 | 0 | 0 | 110 | 1 | 1 | 2 | NA | 7  | 1 |\n",
       "| 65 | 1 | 4 | 130 | 275 | 0 | 1 | 115 | 1 | 1 | 2 | NA | NA | 1 |\n",
       "\n"
      ],
      "text/plain": [
       "    age sex cp trestbps chol fbs restecg thalach exang oldpeak slope ca thal\n",
       "1   28  1   2  130      132  0   2       185     0     0       NA    NA NA  \n",
       "2   29  1   2  140       NA  0   0       170     0     0       NA    NA NA  \n",
       "3   30  0   1  170      237  0   1       170     0     0       NA    NA 6   \n",
       "⋮   ⋮   ⋮   ⋮  ⋮        ⋮    ⋮   ⋮       ⋮       ⋮     ⋮       ⋮     ⋮  ⋮   \n",
       "218 54  0   3  130      294  0   1       100     1     0       2     NA NA  \n",
       "219 58  0   2  180      393  0   0       110     1     1       2     NA 7   \n",
       "220 65  1   4  130      275  0   1       115     1     1       2     NA NA  \n",
       "    num\n",
       "1   0  \n",
       "2   0  \n",
       "3   0  \n",
       "⋮   ⋮  \n",
       "218 1  \n",
       "219 1  \n",
       "220 1  "
      ]
     },
     "metadata": {},
     "output_type": "display_data"
    },
    {
     "data": {
      "text/html": [
       "<table class=\"dataframe\">\n",
       "<caption>A tibble: 74 × 14</caption>\n",
       "<thead>\n",
       "\t<tr><th scope=col>age</th><th scope=col>sex</th><th scope=col>cp</th><th scope=col>trestbps</th><th scope=col>chol</th><th scope=col>fbs</th><th scope=col>restecg</th><th scope=col>thalach</th><th scope=col>exang</th><th scope=col>oldpeak</th><th scope=col>slope</th><th scope=col>ca</th><th scope=col>thal</th><th scope=col>num</th></tr>\n",
       "\t<tr><th scope=col>&lt;dbl&gt;</th><th scope=col>&lt;fct&gt;</th><th scope=col>&lt;fct&gt;</th><th scope=col>&lt;dbl&gt;</th><th scope=col>&lt;dbl&gt;</th><th scope=col>&lt;fct&gt;</th><th scope=col>&lt;fct&gt;</th><th scope=col>&lt;dbl&gt;</th><th scope=col>&lt;fct&gt;</th><th scope=col>&lt;dbl&gt;</th><th scope=col>&lt;fct&gt;</th><th scope=col>&lt;fct&gt;</th><th scope=col>&lt;fct&gt;</th><th scope=col>&lt;fct&gt;</th></tr>\n",
       "</thead>\n",
       "<tbody>\n",
       "\t<tr><td>29</td><td>1</td><td>2</td><td>120</td><td>243</td><td>0</td><td>0</td><td>160</td><td>0</td><td>0</td><td>NA</td><td>NA</td><td>NA</td><td>0</td></tr>\n",
       "\t<tr><td>32</td><td>0</td><td>2</td><td>105</td><td>198</td><td>0</td><td>0</td><td>165</td><td>0</td><td>0</td><td>NA</td><td>NA</td><td>NA</td><td>0</td></tr>\n",
       "\t<tr><td>32</td><td>1</td><td>2</td><td>110</td><td>225</td><td>0</td><td>0</td><td>184</td><td>0</td><td>0</td><td>NA</td><td>NA</td><td>NA</td><td>0</td></tr>\n",
       "\t<tr><td>⋮</td><td>⋮</td><td>⋮</td><td>⋮</td><td>⋮</td><td>⋮</td><td>⋮</td><td>⋮</td><td>⋮</td><td>⋮</td><td>⋮</td><td>⋮</td><td>⋮</td><td>⋮</td></tr>\n",
       "\t<tr><td>47</td><td>1</td><td>4</td><td>160</td><td>291</td><td>0</td><td>1</td><td>158</td><td>1</td><td>3.0</td><td>2 </td><td>NA</td><td>NA</td><td>1</td></tr>\n",
       "\t<tr><td>52</td><td>1</td><td>4</td><td>160</td><td>331</td><td>0</td><td>0</td><td> 94</td><td>1</td><td>2.5</td><td>NA</td><td>NA</td><td>NA</td><td>1</td></tr>\n",
       "\t<tr><td>56</td><td>1</td><td>4</td><td>155</td><td>342</td><td>1</td><td>0</td><td>150</td><td>1</td><td>3.0</td><td>2 </td><td>NA</td><td>NA</td><td>1</td></tr>\n",
       "</tbody>\n",
       "</table>\n"
      ],
      "text/latex": [
       "A tibble: 74 × 14\n",
       "\\begin{tabular}{llllllllllllll}\n",
       " age & sex & cp & trestbps & chol & fbs & restecg & thalach & exang & oldpeak & slope & ca & thal & num\\\\\n",
       " <dbl> & <fct> & <fct> & <dbl> & <dbl> & <fct> & <fct> & <dbl> & <fct> & <dbl> & <fct> & <fct> & <fct> & <fct>\\\\\n",
       "\\hline\n",
       "\t 29 & 1 & 2 & 120 & 243 & 0 & 0 & 160 & 0 & 0 & NA & NA & NA & 0\\\\\n",
       "\t 32 & 0 & 2 & 105 & 198 & 0 & 0 & 165 & 0 & 0 & NA & NA & NA & 0\\\\\n",
       "\t 32 & 1 & 2 & 110 & 225 & 0 & 0 & 184 & 0 & 0 & NA & NA & NA & 0\\\\\n",
       "\t ⋮ & ⋮ & ⋮ & ⋮ & ⋮ & ⋮ & ⋮ & ⋮ & ⋮ & ⋮ & ⋮ & ⋮ & ⋮ & ⋮\\\\\n",
       "\t 47 & 1 & 4 & 160 & 291 & 0 & 1 & 158 & 1 & 3.0 & 2  & NA & NA & 1\\\\\n",
       "\t 52 & 1 & 4 & 160 & 331 & 0 & 0 &  94 & 1 & 2.5 & NA & NA & NA & 1\\\\\n",
       "\t 56 & 1 & 4 & 155 & 342 & 1 & 0 & 150 & 1 & 3.0 & 2  & NA & NA & 1\\\\\n",
       "\\end{tabular}\n"
      ],
      "text/markdown": [
       "\n",
       "A tibble: 74 × 14\n",
       "\n",
       "| age &lt;dbl&gt; | sex &lt;fct&gt; | cp &lt;fct&gt; | trestbps &lt;dbl&gt; | chol &lt;dbl&gt; | fbs &lt;fct&gt; | restecg &lt;fct&gt; | thalach &lt;dbl&gt; | exang &lt;fct&gt; | oldpeak &lt;dbl&gt; | slope &lt;fct&gt; | ca &lt;fct&gt; | thal &lt;fct&gt; | num &lt;fct&gt; |\n",
       "|---|---|---|---|---|---|---|---|---|---|---|---|---|---|\n",
       "| 29 | 1 | 2 | 120 | 243 | 0 | 0 | 160 | 0 | 0 | NA | NA | NA | 0 |\n",
       "| 32 | 0 | 2 | 105 | 198 | 0 | 0 | 165 | 0 | 0 | NA | NA | NA | 0 |\n",
       "| 32 | 1 | 2 | 110 | 225 | 0 | 0 | 184 | 0 | 0 | NA | NA | NA | 0 |\n",
       "| ⋮ | ⋮ | ⋮ | ⋮ | ⋮ | ⋮ | ⋮ | ⋮ | ⋮ | ⋮ | ⋮ | ⋮ | ⋮ | ⋮ |\n",
       "| 47 | 1 | 4 | 160 | 291 | 0 | 1 | 158 | 1 | 3.0 | 2  | NA | NA | 1 |\n",
       "| 52 | 1 | 4 | 160 | 331 | 0 | 0 |  94 | 1 | 2.5 | NA | NA | NA | 1 |\n",
       "| 56 | 1 | 4 | 155 | 342 | 1 | 0 | 150 | 1 | 3.0 | 2  | NA | NA | 1 |\n",
       "\n"
      ],
      "text/plain": [
       "   age sex cp trestbps chol fbs restecg thalach exang oldpeak slope ca thal num\n",
       "1  29  1   2  120      243  0   0       160     0     0       NA    NA NA   0  \n",
       "2  32  0   2  105      198  0   0       165     0     0       NA    NA NA   0  \n",
       "3  32  1   2  110      225  0   0       184     0     0       NA    NA NA   0  \n",
       "⋮  ⋮   ⋮   ⋮  ⋮        ⋮    ⋮   ⋮       ⋮       ⋮     ⋮       ⋮     ⋮  ⋮    ⋮  \n",
       "72 47  1   4  160      291  0   1       158     1     3.0     2     NA NA   1  \n",
       "73 52  1   4  160      331  0   0        94     1     2.5     NA    NA NA   1  \n",
       "74 56  1   4  155      342  1   0       150     1     3.0     2     NA NA   1  "
      ]
     },
     "metadata": {},
     "output_type": "display_data"
    }
   ],
   "source": [
    "# partitioning the data into a training (75%) and testing (25%) set; num will be used as the class label\n",
    "heart_disease_split <- initial_split(heart_disease_data, prop = 0.75, strata = num)\n",
    "\n",
    "heart_disease_train <- training(heart_disease_split)\n",
    "heart_disease_train\n",
    "\n",
    "heart_disease_test <- testing(heart_disease_split)\n",
    "heart_disease_test"
   ]
  },
  {
   "cell_type": "code",
   "execution_count": 5,
   "id": "ee324f1e-c3ee-4c80-9ece-45315c569bf7",
   "metadata": {},
   "outputs": [
    {
     "data": {
      "text/html": [
       "<table class=\"dataframe\">\n",
       "<caption>A tibble: 2 × 3</caption>\n",
       "<thead>\n",
       "\t<tr><th scope=col>diagnosis</th><th scope=col>people</th><th scope=col>percent</th></tr>\n",
       "\t<tr><th scope=col>&lt;fct&gt;</th><th scope=col>&lt;int&gt;</th><th scope=col>&lt;dbl&gt;</th></tr>\n",
       "</thead>\n",
       "<tbody>\n",
       "\t<tr><td>0</td><td>188</td><td>63.94558</td></tr>\n",
       "\t<tr><td>1</td><td>106</td><td>36.05442</td></tr>\n",
       "</tbody>\n",
       "</table>\n"
      ],
      "text/latex": [
       "A tibble: 2 × 3\n",
       "\\begin{tabular}{lll}\n",
       " diagnosis & people & percent\\\\\n",
       " <fct> & <int> & <dbl>\\\\\n",
       "\\hline\n",
       "\t 0 & 188 & 63.94558\\\\\n",
       "\t 1 & 106 & 36.05442\\\\\n",
       "\\end{tabular}\n"
      ],
      "text/markdown": [
       "\n",
       "A tibble: 2 × 3\n",
       "\n",
       "| diagnosis &lt;fct&gt; | people &lt;int&gt; | percent &lt;dbl&gt; |\n",
       "|---|---|---|\n",
       "| 0 | 188 | 63.94558 |\n",
       "| 1 | 106 | 36.05442 |\n",
       "\n"
      ],
      "text/plain": [
       "  diagnosis people percent \n",
       "1 0         188    63.94558\n",
       "2 1         106    36.05442"
      ]
     },
     "metadata": {},
     "output_type": "display_data"
    },
    {
     "data": {
      "text/html": [
       "<table class=\"dataframe\">\n",
       "<caption>A tibble: 2 × 3</caption>\n",
       "<thead>\n",
       "\t<tr><th scope=col>diagnosis</th><th scope=col>people</th><th scope=col>percent</th></tr>\n",
       "\t<tr><th scope=col>&lt;fct&gt;</th><th scope=col>&lt;int&gt;</th><th scope=col>&lt;dbl&gt;</th></tr>\n",
       "</thead>\n",
       "<tbody>\n",
       "\t<tr><td>0</td><td>141</td><td>64.09091</td></tr>\n",
       "\t<tr><td>1</td><td> 79</td><td>35.90909</td></tr>\n",
       "</tbody>\n",
       "</table>\n"
      ],
      "text/latex": [
       "A tibble: 2 × 3\n",
       "\\begin{tabular}{lll}\n",
       " diagnosis & people & percent\\\\\n",
       " <fct> & <int> & <dbl>\\\\\n",
       "\\hline\n",
       "\t 0 & 141 & 64.09091\\\\\n",
       "\t 1 &  79 & 35.90909\\\\\n",
       "\\end{tabular}\n"
      ],
      "text/markdown": [
       "\n",
       "A tibble: 2 × 3\n",
       "\n",
       "| diagnosis &lt;fct&gt; | people &lt;int&gt; | percent &lt;dbl&gt; |\n",
       "|---|---|---|\n",
       "| 0 | 141 | 64.09091 |\n",
       "| 1 |  79 | 35.90909 |\n",
       "\n"
      ],
      "text/plain": [
       "  diagnosis people percent \n",
       "1 0         141    64.09091\n",
       "2 1          79    35.90909"
      ]
     },
     "metadata": {},
     "output_type": "display_data"
    }
   ],
   "source": [
    "# identifying the proportion of cases with a diagnosis of heart disease (positive angiographic disease status) and the proportion without in the full data\n",
    "# set and the training data set to ensure that the proportions are preserved during the split\n",
    "heart_disease_data_proportions <- heart_disease_data |>\n",
    "                      group_by(diagnosis = num) |>\n",
    "                      summarize(people = n()) |>\n",
    "                      mutate(percent = 100*people/nrow(heart_disease_data))\n",
    "heart_disease_data_proportions\n",
    "\n",
    "heart_disease_train_proportions <- heart_disease_train |>\n",
    "                      group_by(diagnosis = num) |>\n",
    "                      summarize(people = n()) |>\n",
    "                      mutate(percent = 100*people/nrow(heart_disease_train))\n",
    "heart_disease_train_proportions\n",
    "\n",
    "# those that have a heart disease diagnoses have a num value of 1, indicating that there is more than 50% blood vessels diameter narrowing\n",
    "# those that do not have a heart disease diagnoses have a num value of 0, indicating that there is more than 50% blood vessels diameter narrowing"
   ]
  },
  {
   "cell_type": "markdown",
   "id": "d0f46c2a-4640-4156-839f-366497fcf8c6",
   "metadata": {},
   "source": [
    "**Exploratory data analysis using training data:**"
   ]
  },
  {
   "cell_type": "code",
   "execution_count": 6,
   "id": "638266f2-e782-4933-9c1d-27ba7fd3e7bc",
   "metadata": {},
   "outputs": [
    {
     "data": {
      "text/html": [
       "<table class=\"dataframe\">\n",
       "<caption>A tibble: 2 × 2</caption>\n",
       "<thead>\n",
       "\t<tr><th scope=col>diagnosis</th><th scope=col>people</th></tr>\n",
       "\t<tr><th scope=col>&lt;fct&gt;</th><th scope=col>&lt;int&gt;</th></tr>\n",
       "</thead>\n",
       "<tbody>\n",
       "\t<tr><td>0</td><td>141</td></tr>\n",
       "\t<tr><td>1</td><td> 79</td></tr>\n",
       "</tbody>\n",
       "</table>\n"
      ],
      "text/latex": [
       "A tibble: 2 × 2\n",
       "\\begin{tabular}{ll}\n",
       " diagnosis & people\\\\\n",
       " <fct> & <int>\\\\\n",
       "\\hline\n",
       "\t 0 & 141\\\\\n",
       "\t 1 &  79\\\\\n",
       "\\end{tabular}\n"
      ],
      "text/markdown": [
       "\n",
       "A tibble: 2 × 2\n",
       "\n",
       "| diagnosis &lt;fct&gt; | people &lt;int&gt; |\n",
       "|---|---|\n",
       "| 0 | 141 |\n",
       "| 1 |  79 |\n",
       "\n"
      ],
      "text/plain": [
       "  diagnosis people\n",
       "1 0         141   \n",
       "2 1          79   "
      ]
     },
     "metadata": {},
     "output_type": "display_data"
    }
   ],
   "source": [
    "# table that reports the number of observations in each class\n",
    "heart_disease_class_observations <- heart_disease_train |>\n",
    "                      group_by(diagnosis = num) |>\n",
    "                      summarize(people = n())\n",
    "heart_disease_class_observations"
   ]
  },
  {
   "cell_type": "code",
   "execution_count": 7,
   "id": "db5e7931-5a4a-4682-9f0f-c6bad556cd1c",
   "metadata": {},
   "outputs": [
    {
     "data": {
      "text/html": [
       "<table class=\"dataframe\">\n",
       "<caption>A tibble: 5 × 4</caption>\n",
       "<thead>\n",
       "\t<tr><th scope=col>variable</th><th scope=col>mean</th><th scope=col>min</th><th scope=col>max</th></tr>\n",
       "\t<tr><th scope=col>&lt;chr&gt;</th><th scope=col>&lt;dbl&gt;</th><th scope=col>&lt;dbl&gt;</th><th scope=col>&lt;dbl&gt;</th></tr>\n",
       "</thead>\n",
       "<tbody>\n",
       "\t<tr><td>age     </td><td> 48.1090909</td><td>28</td><td> 65</td></tr>\n",
       "\t<tr><td>trestbps</td><td>132.3287671</td><td>92</td><td>180</td></tr>\n",
       "\t<tr><td>chol    </td><td>248.9365854</td><td>85</td><td>603</td></tr>\n",
       "\t<tr><td>thalach </td><td>139.4155251</td><td>82</td><td>190</td></tr>\n",
       "\t<tr><td>oldpeak </td><td>  0.5877273</td><td> 0</td><td>  5</td></tr>\n",
       "</tbody>\n",
       "</table>\n"
      ],
      "text/latex": [
       "A tibble: 5 × 4\n",
       "\\begin{tabular}{llll}\n",
       " variable & mean & min & max\\\\\n",
       " <chr> & <dbl> & <dbl> & <dbl>\\\\\n",
       "\\hline\n",
       "\t age      &  48.1090909 & 28 &  65\\\\\n",
       "\t trestbps & 132.3287671 & 92 & 180\\\\\n",
       "\t chol     & 248.9365854 & 85 & 603\\\\\n",
       "\t thalach  & 139.4155251 & 82 & 190\\\\\n",
       "\t oldpeak  &   0.5877273 &  0 &   5\\\\\n",
       "\\end{tabular}\n"
      ],
      "text/markdown": [
       "\n",
       "A tibble: 5 × 4\n",
       "\n",
       "| variable &lt;chr&gt; | mean &lt;dbl&gt; | min &lt;dbl&gt; | max &lt;dbl&gt; |\n",
       "|---|---|---|---|\n",
       "| age      |  48.1090909 | 28 |  65 |\n",
       "| trestbps | 132.3287671 | 92 | 180 |\n",
       "| chol     | 248.9365854 | 85 | 603 |\n",
       "| thalach  | 139.4155251 | 82 | 190 |\n",
       "| oldpeak  |   0.5877273 |  0 |   5 |\n",
       "\n"
      ],
      "text/plain": [
       "  variable mean        min max\n",
       "1 age       48.1090909 28   65\n",
       "2 trestbps 132.3287671 92  180\n",
       "3 chol     248.9365854 85  603\n",
       "4 thalach  139.4155251 82  190\n",
       "5 oldpeak    0.5877273  0    5"
      ]
     },
     "metadata": {},
     "output_type": "display_data"
    },
    {
     "data": {
      "text/html": [
       "<table class=\"dataframe\">\n",
       "<caption>A tibble: 1 × 1</caption>\n",
       "<thead>\n",
       "\t<tr><th scope=col>missing_data</th></tr>\n",
       "\t<tr><th scope=col>&lt;int&gt;</th></tr>\n",
       "</thead>\n",
       "<tbody>\n",
       "\t<tr><td>220</td></tr>\n",
       "</tbody>\n",
       "</table>\n"
      ],
      "text/latex": [
       "A tibble: 1 × 1\n",
       "\\begin{tabular}{l}\n",
       " missing\\_data\\\\\n",
       " <int>\\\\\n",
       "\\hline\n",
       "\t 220\\\\\n",
       "\\end{tabular}\n"
      ],
      "text/markdown": [
       "\n",
       "A tibble: 1 × 1\n",
       "\n",
       "| missing_data &lt;int&gt; |\n",
       "|---|\n",
       "| 220 |\n",
       "\n"
      ],
      "text/plain": [
       "  missing_data\n",
       "1 220         "
      ]
     },
     "metadata": {},
     "output_type": "display_data"
    }
   ],
   "source": [
    "# table that summarizes the training data with the mean, min, and max of the numerical variables\n",
    "heart_train_summary <- heart_disease_train |>\n",
    "  summarise(across(\n",
    "    c(age, trestbps, chol, thalach, oldpeak),\n",
    "    list(mean = mean, min = min, max = max),\n",
    "    na.rm = TRUE\n",
    "  )) |> pivot_longer (everything(), names_to=\"variable\", values_to=\"value\") |> \n",
    " separate(variable, into = c(\"variable\", \"statistics\"), sep = \"_\") |> pivot_wider(names_from = statistics, values_from = value)\n",
    "heart_train_summary\n",
    "\n",
    "# the number of rows have missing data, at least one NA in the observation\n",
    "tibble(missing_data = nrow(heart_disease_train[!complete.cases(heart_disease_train),]))"
   ]
  },
  {
   "cell_type": "code",
   "execution_count": 8,
   "id": "307828d7-4d1a-4c9c-be59-2277e3677ec0",
   "metadata": {},
   "outputs": [
    {
     "name": "stderr",
     "output_type": "stream",
     "text": [
      "Warning message:\n",
      "“Removed 16 rows containing missing values (geom_point).”\n"
     ]
    },
    {
     "data": {
      "image/png": "[encoded data removed]",
      "text/plain": [
       "plot without title"
      ]
     },
     "metadata": {
      "image/png": {
       "height": 420,
       "width": 420
      }
     },
     "output_type": "display_data"
    }
   ],
   "source": [
    "# scatterplot of the predictor variables maximum heart rate (BPS) and serum cholesterol (mg/dl) with diagnosis clustering identification\n",
    "# variables were chosen from correlation analysis\n",
    "ggplot(heart_disease_train, aes(x = chol, y = thalach, color = num)) +\n",
    "    geom_point() +\n",
    "    labs(x = \"Maximum Heart Rate (BPM)\", y = \"Serum Cholesterol (mg/dl)\", colour = \"Diagnosis\") +\n",
    "    theme(text = element_text(size = 11)) +\n",
    "    scale_x_log10(labels = comma) +\n",
    "    scale_y_log10(labels = comma) +\n",
    "    ggtitle(\"Maximum Heart Rate vs. Serum Cholesterol with Diagnosis of Heart Disease\")"
   ]
  },
  {
   "cell_type": "code",
   "execution_count": 9,
   "id": "a50cc793-ea43-4bd5-b599-bb49b00dbeea",
   "metadata": {},
   "outputs": [
    {
     "name": "stderr",
     "output_type": "stream",
     "text": [
      "Warning message:\n",
      "“Removed 1 rows containing non-finite values (stat_boxplot).”\n"
     ]
    },
    {
     "data": {
      "image/png": "[encoded data removed]",
      "text/plain": [
       "plot without title"
      ]
     },
     "metadata": {
      "image/png": {
       "height": 420,
       "width": 420
      }
     },
     "output_type": "display_data"
    }
   ],
   "source": [
    "# box plot of the maximum heart rate (BPS) in categories of heart disease diagnosis\n",
    "heart_disease_train <- heart_disease_train |> mutate_if(is.character, as.numeric) |> mutate_at(vars(\"sex\", \"cp\", \"fbs\", \"restecg\", \"exang\", \"ca\", \"thal\", \"num\", \"slope\"), factor)\n",
    "ggplot(heart_disease_train, aes(x = num, y = thalach, fill = factor(num))) +\n",
    "  geom_boxplot() +\n",
    "  labs(x = \"Diagnosis (0 = No; 1 = Yes)\", y = \"Maximum Heart Rate (BPM)\", \n",
    "       title = \"Box Plot of Maximum Heart Rate vs. Diagnosis\",\n",
    "       fill = \"Diagnosis\") +\n",
    "  theme(text = element_text(size = 14)) +\n",
    "  guides(fill = guide_legend(title = \"Diagnosis\"))"
   ]
  },
  {
   "cell_type": "code",
   "execution_count": 10,
   "id": "100c2586-4862-4397-87d2-f88e5df9e939",
   "metadata": {},
   "outputs": [
    {
     "data": {
      "image/png": "[encoded data removed]",
      "text/plain": [
       "plot without title"
      ]
     },
     "metadata": {
      "image/png": {
       "height": 420,
       "width": 420
      }
     },
     "output_type": "display_data"
    }
   ],
   "source": [
    "# bar plot of the proportions of heart disease by type of chest pain \n",
    "ggplot(heart_disease_train, aes(x = cp, fill = factor(num))) + \n",
    "  geom_bar(position = \"fill\") +\n",
    "  labs(x = \"Chest Pain Type\", y = \"Proportion\",\n",
    "       fill = \"Disease Status\",\n",
    "       title = \"Distribution of Heart Disease by Chest Pain Type\") +\n",
    "       theme(text = element_text(size = 14)) +\n",
    "       guides(fill = guide_legend(title = \"Diagnosis\"))"
   ]
  },
  {
   "cell_type": "markdown",
   "id": "ef652af8-4434-4684-9823-8fe571fc59ac",
   "metadata": {},
   "source": [
    "**Methods:**\n",
    "\n",
    "> To determine which variables are suitable for classifying angiographic disease status, we decided to implement correlation analysis. First, we performed one-hot encoding on our categorical variables to create new columns that contain numerical variables representing those categorical ones. The relationship of these variables between one another were calculated using the cor function and mapped into a correlation matrix (pearson correlation coefficient).\n",
    "\n",
    "> Subsequently, the correlation matrix was then converted into a dataframe and the last column was selected. This column shows the correlation between each variable to the label that we are trying to predict, heart disease angiographic disease status. It was arranged in descending order to determine which variables have the greatest correlation to num1 (absolute values were used to negate the correlation direction). The resulting dataframe allowed us to identify the best predictors for our analysis: the variables that appear at the data frame. We decided to use the top five categorical variables: exang0, slope, slope2, cp4, thal3; and the top two numerical variables: thalach and chol as our predictors.\n",
    "\n",
    "> We vizualized the results using a scatter plot of our two numerical variables, thalach and chol, since this allows for a concise 2D representation. Moreover, a box plot and bar graph were used to represent the relationship between the categorical variables and the label.\n",
    "\n",
    "> Note: exang1 was not considered because it’s the same as exang0 (opposite correlation values); moreover, oldpeak was disregarded due to the fact that it's difficult to classify."
   ]
  },
  {
   "cell_type": "code",
   "execution_count": 11,
   "id": "a3700de7-8c1c-4081-ba34-e7f72a329034",
   "metadata": {},
   "outputs": [
    {
     "name": "stderr",
     "output_type": "stream",
     "text": [
      "Warning message in cor(encoded_data, use = \"pairwise.complete.obs\"):\n",
      "“the standard deviation is zero”\n"
     ]
    },
    {
     "data": {
      "text/html": [
       "<table class=\"dataframe\">\n",
       "<caption>A data.frame: 25 × 1</caption>\n",
       "<thead>\n",
       "\t<tr><th></th><th scope=col>matrix...25.</th></tr>\n",
       "\t<tr><th></th><th scope=col>&lt;dbl&gt;</th></tr>\n",
       "</thead>\n",
       "<tbody>\n",
       "\t<tr><th scope=row>num0</th><td>-1.000000000</td></tr>\n",
       "\t<tr><th scope=row>num1</th><td> 1.000000000</td></tr>\n",
       "\t<tr><th scope=row>exang0</th><td>-0.604936038</td></tr>\n",
       "\t<tr><th scope=row>exang1</th><td> 0.604936038</td></tr>\n",
       "\t<tr><th scope=row>slope1</th><td>-0.592220092</td></tr>\n",
       "\t<tr><th scope=row>slope2</th><td> 0.547559811</td></tr>\n",
       "\t<tr><th scope=row>cp4</th><td> 0.537148449</td></tr>\n",
       "\t<tr><th scope=row>thal3</th><td>-0.521050106</td></tr>\n",
       "\t<tr><th scope=row>oldpeak</th><td> 0.506800915</td></tr>\n",
       "\t<tr><th scope=row>cp2</th><td>-0.426868985</td></tr>\n",
       "\t<tr><th scope=row>thalach</th><td>-0.323469233</td></tr>\n",
       "\t<tr><th scope=row>thal7</th><td> 0.292307692</td></tr>\n",
       "\t<tr><th scope=row>sex0</th><td>-0.219885071</td></tr>\n",
       "\t<tr><th scope=row>chol</th><td> 0.205718495</td></tr>\n",
       "\t<tr><th scope=row>age</th><td> 0.200172592</td></tr>\n",
       "\t<tr><th scope=row>sex1</th><td> 0.193377587</td></tr>\n",
       "\t<tr><th scope=row>fbs0</th><td>-0.193377587</td></tr>\n",
       "\t<tr><th scope=row>thal6</th><td> 0.182323225</td></tr>\n",
       "\t<tr><th scope=row>trestbps</th><td> 0.161365988</td></tr>\n",
       "\t<tr><th scope=row>cp3</th><td>-0.151870181</td></tr>\n",
       "\t<tr><th scope=row>slope3</th><td> 0.075853411</td></tr>\n",
       "\t<tr><th scope=row>restecg2</th><td>-0.066416665</td></tr>\n",
       "\t<tr><th scope=row>rectecg1</th><td> 0.025215449</td></tr>\n",
       "\t<tr><th scope=row>cp1</th><td>-0.011088801</td></tr>\n",
       "\t<tr><th scope=row>restecg0</th><td> 0.002210262</td></tr>\n",
       "</tbody>\n",
       "</table>\n"
      ],
      "text/latex": [
       "A data.frame: 25 × 1\n",
       "\\begin{tabular}{r|l}\n",
       "  & matrix...25.\\\\\n",
       "  & <dbl>\\\\\n",
       "\\hline\n",
       "\tnum0 & -1.000000000\\\\\n",
       "\tnum1 &  1.000000000\\\\\n",
       "\texang0 & -0.604936038\\\\\n",
       "\texang1 &  0.604936038\\\\\n",
       "\tslope1 & -0.592220092\\\\\n",
       "\tslope2 &  0.547559811\\\\\n",
       "\tcp4 &  0.537148449\\\\\n",
       "\tthal3 & -0.521050106\\\\\n",
       "\toldpeak &  0.506800915\\\\\n",
       "\tcp2 & -0.426868985\\\\\n",
       "\tthalach & -0.323469233\\\\\n",
       "\tthal7 &  0.292307692\\\\\n",
       "\tsex0 & -0.219885071\\\\\n",
       "\tchol &  0.205718495\\\\\n",
       "\tage &  0.200172592\\\\\n",
       "\tsex1 &  0.193377587\\\\\n",
       "\tfbs0 & -0.193377587\\\\\n",
       "\tthal6 &  0.182323225\\\\\n",
       "\ttrestbps &  0.161365988\\\\\n",
       "\tcp3 & -0.151870181\\\\\n",
       "\tslope3 &  0.075853411\\\\\n",
       "\trestecg2 & -0.066416665\\\\\n",
       "\trectecg1 &  0.025215449\\\\\n",
       "\tcp1 & -0.011088801\\\\\n",
       "\trestecg0 &  0.002210262\\\\\n",
       "\\end{tabular}\n"
      ],
      "text/markdown": [
       "\n",
       "A data.frame: 25 × 1\n",
       "\n",
       "| <!--/--> | matrix...25. &lt;dbl&gt; |\n",
       "|---|---|\n",
       "| num0 | -1.000000000 |\n",
       "| num1 |  1.000000000 |\n",
       "| exang0 | -0.604936038 |\n",
       "| exang1 |  0.604936038 |\n",
       "| slope1 | -0.592220092 |\n",
       "| slope2 |  0.547559811 |\n",
       "| cp4 |  0.537148449 |\n",
       "| thal3 | -0.521050106 |\n",
       "| oldpeak |  0.506800915 |\n",
       "| cp2 | -0.426868985 |\n",
       "| thalach | -0.323469233 |\n",
       "| thal7 |  0.292307692 |\n",
       "| sex0 | -0.219885071 |\n",
       "| chol |  0.205718495 |\n",
       "| age |  0.200172592 |\n",
       "| sex1 |  0.193377587 |\n",
       "| fbs0 | -0.193377587 |\n",
       "| thal6 |  0.182323225 |\n",
       "| trestbps |  0.161365988 |\n",
       "| cp3 | -0.151870181 |\n",
       "| slope3 |  0.075853411 |\n",
       "| restecg2 | -0.066416665 |\n",
       "| rectecg1 |  0.025215449 |\n",
       "| cp1 | -0.011088801 |\n",
       "| restecg0 |  0.002210262 |\n",
       "\n"
      ],
      "text/plain": [
       "         matrix...25.\n",
       "num0     -1.000000000\n",
       "num1      1.000000000\n",
       "exang0   -0.604936038\n",
       "exang1    0.604936038\n",
       "slope1   -0.592220092\n",
       "slope2    0.547559811\n",
       "cp4       0.537148449\n",
       "thal3    -0.521050106\n",
       "oldpeak   0.506800915\n",
       "cp2      -0.426868985\n",
       "thalach  -0.323469233\n",
       "thal7     0.292307692\n",
       "sex0     -0.219885071\n",
       "chol      0.205718495\n",
       "age       0.200172592\n",
       "sex1      0.193377587\n",
       "fbs0     -0.193377587\n",
       "thal6     0.182323225\n",
       "trestbps  0.161365988\n",
       "cp3      -0.151870181\n",
       "slope3    0.075853411\n",
       "restecg2 -0.066416665\n",
       "rectecg1  0.025215449\n",
       "cp1      -0.011088801\n",
       "restecg0  0.002210262"
      ]
     },
     "metadata": {},
     "output_type": "display_data"
    }
   ],
   "source": [
    "options(repr.matrix.max.rows = 25)\n",
    "\n",
    "# one-hot encoded data\n",
    "encoded_data <- heart_disease_train |> mutate(sex0 = ifelse(sex==\"0\",1,0), sex1 = ifelse(sex==\"1\",1,0),\n",
    "                      cp1 = ifelse(cp==\"1\",1,0), cp2 = ifelse(cp==\"2\",1,0), cp3 = ifelse(cp==\"3\",1,0), cp4 = ifelse(cp==\"4\",1,0), \n",
    "                      fbs0 = ifelse(fbs==\"0\",1,0), sex1 = ifelse(fbs==\"1\",1,0),\n",
    "                      restecg0 = ifelse( restecg==\"0\",1,0), rectecg1 = ifelse(restecg==\"1\",1,0), restecg2 = ifelse(restecg==\"2\",1,0),\n",
    "                      exang0 = ifelse(exang==\"0\",1,0), exang1 = ifelse(exang==\"1\",1,0),\n",
    "                      slope1 = ifelse(slope==\"1\",1,0), slope2 = ifelse(slope==\"2\",1,0), slope3 = ifelse(slope==\"3\",1,0),\n",
    "                      thal3 = ifelse(thal==\"3\",1,0), thal6 = ifelse(thal==\"6\",1,0), thal7 = ifelse(thal==\"7\",1,0),\n",
    "                      num0 = ifelse(num==\"0\",1,0), num1 = ifelse(num==\"1\",1,0)) |> select(-where(is.factor)) # removing all factor coloumns from the dataframe\n",
    "matrix <- cor(encoded_data, use = \"pairwise.complete.obs\") # creating a correlation matrix based on the above dataframe and ignoring the NA\n",
    "num_df <- data.frame(matrix[,25]) # selecting the 25th coloumn of the matrix as a dataframe\n",
    "num_df <- num_df |> arrange(desc(abs(num_df))) # arranging the 25th column in a descending order based on absolute value to only account for the strength of the relationship and not the direction\n",
    "num_df"
   ]
  },
  {
   "cell_type": "markdown",
   "id": "9425cf3a-0ed8-400f-beab-f2bd6c9b36ce",
   "metadata": {},
   "source": [
    "**Expected outcomes and significance:**\n",
    "> We expect to find that this model will predict the num variable to a relatively high and satisfactory level of accuracy, depending on the chosen KNN. Due to the exploratory data analysis that we performed, the categorical and numerical variables with most correlation to disease status were identified as the best predictors.\n",
    "\n",
    "> Such findings and the model itself could potentially aid hospitals in identifying patients with heart disease risk by performing simple tests such as measuring their maximum heart rate or cholesterol levels. This model may minimize the time that doctors spend on ruling out a conclusive diagnosis on their own and relieve any difficulty associated with such prediction problems. Moreover, the findings identify the main factors that are correlated to heart disease which is useful information in determining preventative measures against heart disease that can be publicly disseminated.\n",
    "\n",
    "> Lastly, these findings may lead to future research questions that explore the biological mechanisms underlying the relationships between heart disease status and the predictors. It also raises questions about whether this model can be applied to different geographical locations; ie., how well does the model generalize to other populations and datasets?"
   ]
  },
  {
   "cell_type": "markdown",
   "id": "d1dde9e7-7e32-4838-b34b-93c6ddb09935",
   "metadata": {},
   "source": [
    "**References**\n",
    "\n",
    "CDC: Centers for Disease Control and Prevention. (2022). Heart Disease and Stroke.\n",
    "https://www.cdc.gov/chronicdisease/resources/publications/factsheets/heart-disease-stroke.htm#:~:text=Leading%20risk%20factors%20for%20heart,unhealthy%20diet%2C%20and%20physical%20inactivity.\n",
    "\n",
    "Hungarian Institute of Cardiology. (1988). Heart Disease Data Set [Dataset]. UCI Machine Learning \n",
    "Repository. https://archive.ics.uci.edu/ml/datasets/Heart+Disease\n",
    "\n",
    "McLaren. (2023). Heart Disease. \n",
    "https://www.mclaren.org/main/heart-disease-risk-factors#:~:text=The%20%22uncontrollable%22%20risk%20factors%20are,and%20common%20lifestyles%20increase%20risk)\n",
    "\n",
    "OECD and World Health Organization (WHO). (2021). State of health in the EU: Country Health Profile \n",
    "2017 - Hungary. https://www.euro.who.int/__data/assets/pdf_file/0006/355983/Health-Profile-Hungary-Eng.pdf"
   ]
  }
 ],
 "metadata": {
  "kernelspec": {
   "display_name": "R",
   "language": "R",
   "name": "ir"
  },
  "language_info": {
   "codemirror_mode": "r",
   "file_extension": ".r",
   "mimetype": "text/x-r-source",
   "name": "R",
   "pygments_lexer": "r",
   "version": "4.1.3"
  }
 },
 "nbformat": 4,
 "nbformat_minor": 5
}
